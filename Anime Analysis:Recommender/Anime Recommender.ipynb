{
 "cells": [
  {
   "cell_type": "code",
   "execution_count": 1,
   "id": "a9422da2-adf4-4f5c-af56-140b0c2c6b97",
   "metadata": {},
   "outputs": [],
   "source": [
    "import os\n",
    "import pandas as pd\n",
    "import numpy as np\n",
    "import seaborn as sns\n",
    "import matplotlib.pyplot as plt\n",
    "import warnings\n",
    "warnings.filterwarnings('ignore')"
   ]
  },
  {
   "cell_type": "markdown",
   "id": "014385c5-b8f9-4394-97e1-dc5988de6e4f",
   "metadata": {},
   "source": [
    "__Importing Data.__"
   ]
  },
  {
   "cell_type": "code",
   "execution_count": 2,
   "id": "2fb03bee-2b13-4793-af29-564bb686c552",
   "metadata": {},
   "outputs": [
    {
     "data": {
      "text/html": [
       "<div>\n",
       "<style scoped>\n",
       "    .dataframe tbody tr th:only-of-type {\n",
       "        vertical-align: middle;\n",
       "    }\n",
       "\n",
       "    .dataframe tbody tr th {\n",
       "        vertical-align: top;\n",
       "    }\n",
       "\n",
       "    .dataframe thead th {\n",
       "        text-align: right;\n",
       "    }\n",
       "</style>\n",
       "<table border=\"1\" class=\"dataframe\">\n",
       "  <thead>\n",
       "    <tr style=\"text-align: right;\">\n",
       "      <th></th>\n",
       "      <th>Unnamed: 0</th>\n",
       "      <th>title</th>\n",
       "      <th>episodes</th>\n",
       "      <th>status</th>\n",
       "      <th>theme</th>\n",
       "      <th>demographic</th>\n",
       "      <th>genres</th>\n",
       "      <th>type</th>\n",
       "      <th>favorites</th>\n",
       "      <th>popularity</th>\n",
       "      <th>rank</th>\n",
       "      <th>score</th>\n",
       "      <th>members</th>\n",
       "      <th>synopsis</th>\n",
       "      <th>aired</th>\n",
       "      <th>duration</th>\n",
       "      <th>premiered</th>\n",
       "      <th>studios</th>\n",
       "    </tr>\n",
       "  </thead>\n",
       "  <tbody>\n",
       "    <tr>\n",
       "      <th>24259</th>\n",
       "      <td>24259</td>\n",
       "      <td>Seikoujo: Haitoku no Biden Dorei</td>\n",
       "      <td>2</td>\n",
       "      <td>Finished Airing</td>\n",
       "      <td>Unknown</td>\n",
       "      <td>Unknown</td>\n",
       "      <td>Hentai,</td>\n",
       "      <td>OVA</td>\n",
       "      <td>10</td>\n",
       "      <td>#8616</td>\n",
       "      <td>NaN</td>\n",
       "      <td>5.86</td>\n",
       "      <td>4,130</td>\n",
       "      <td>Sister Rosaria is working at the village`s loc...</td>\n",
       "      <td>Apr 25, 2006 to Dec 25, 2006</td>\n",
       "      <td>28 min. per ep.</td>\n",
       "      <td>Unknown</td>\n",
       "      <td>Studio Jam</td>\n",
       "    </tr>\n",
       "    <tr>\n",
       "      <th>24260</th>\n",
       "      <td>24260</td>\n",
       "      <td>Chikan Juunin-tai The Animation</td>\n",
       "      <td>5</td>\n",
       "      <td>Finished Airing</td>\n",
       "      <td>Unknown</td>\n",
       "      <td>Unknown</td>\n",
       "      <td>Hentai,</td>\n",
       "      <td>OVA</td>\n",
       "      <td>7</td>\n",
       "      <td>#9668</td>\n",
       "      <td>NaN</td>\n",
       "      <td>5.86</td>\n",
       "      <td>2,855</td>\n",
       "      <td>There are nine men and a single woman called \"...</td>\n",
       "      <td>Jul 8, 2004 to Aug 7, 2004</td>\n",
       "      <td>30 min. per ep.</td>\n",
       "      <td>Unknown</td>\n",
       "      <td>Sugar Boy</td>\n",
       "    </tr>\n",
       "    <tr>\n",
       "      <th>24261</th>\n",
       "      <td>24261</td>\n",
       "      <td>Gibo</td>\n",
       "      <td>2</td>\n",
       "      <td>Finished Airing</td>\n",
       "      <td>Unknown</td>\n",
       "      <td>Unknown</td>\n",
       "      <td>Drama,Romance,Hentai,</td>\n",
       "      <td>OVA</td>\n",
       "      <td>16</td>\n",
       "      <td>#7719</td>\n",
       "      <td>NaN</td>\n",
       "      <td>5.86</td>\n",
       "      <td>5,535</td>\n",
       "      <td>Yusuke's been very naughty. He's seduced his f...</td>\n",
       "      <td>Oct 5, 2001 to Jan 11, 2002</td>\n",
       "      <td>29 min. per ep.</td>\n",
       "      <td>Unknown</td>\n",
       "      <td>Y.O.U.C</td>\n",
       "    </tr>\n",
       "  </tbody>\n",
       "</table>\n",
       "</div>"
      ],
      "text/plain": [
       "       Unnamed: 0                             title episodes           status  \\\n",
       "24259       24259  Seikoujo: Haitoku no Biden Dorei        2  Finished Airing   \n",
       "24260       24260   Chikan Juunin-tai The Animation        5  Finished Airing   \n",
       "24261       24261                              Gibo        2  Finished Airing   \n",
       "\n",
       "         theme demographic                 genres type favorites popularity  \\\n",
       "24259  Unknown     Unknown                Hentai,  OVA        10      #8616   \n",
       "24260  Unknown     Unknown                Hentai,  OVA         7      #9668   \n",
       "24261  Unknown     Unknown  Drama,Romance,Hentai,  OVA        16      #7719   \n",
       "\n",
       "      rank  score members                                           synopsis  \\\n",
       "24259  NaN   5.86   4,130  Sister Rosaria is working at the village`s loc...   \n",
       "24260  NaN   5.86   2,855  There are nine men and a single woman called \"...   \n",
       "24261  NaN   5.86   5,535  Yusuke's been very naughty. He's seduced his f...   \n",
       "\n",
       "                              aired         duration premiered     studios  \n",
       "24259  Apr 25, 2006 to Dec 25, 2006  28 min. per ep.   Unknown  Studio Jam  \n",
       "24260    Jul 8, 2004 to Aug 7, 2004  30 min. per ep.   Unknown   Sugar Boy  \n",
       "24261   Oct 5, 2001 to Jan 11, 2002  29 min. per ep.   Unknown     Y.O.U.C  "
      ]
     },
     "execution_count": 2,
     "metadata": {},
     "output_type": "execute_result"
    }
   ],
   "source": [
    "mal_df = pd.read_csv('/Users/aaronbrown/Documents/Classwork/DSC 630 - Predictive Analytics/Data/mal_anime.csv')\n",
    "mal_df.tail(3)"
   ]
  },
  {
   "cell_type": "code",
   "execution_count": 3,
   "id": "961c9bc0-4d9a-430a-8c17-a521a4ece4f1",
   "metadata": {},
   "outputs": [
    {
     "data": {
      "text/plain": [
       "array(['Unnamed: 0', 'title', 'episodes', 'status', 'theme',\n",
       "       'demographic', 'genres', 'type', 'favorites', 'popularity', 'rank',\n",
       "       'score', 'members', 'synopsis', 'aired', 'duration', 'premiered',\n",
       "       'studios'], dtype=object)"
      ]
     },
     "execution_count": 3,
     "metadata": {},
     "output_type": "execute_result"
    }
   ],
   "source": [
    "mal_df.columns.values"
   ]
  },
  {
   "cell_type": "code",
   "execution_count": 4,
   "id": "229dd38f-2daf-4875-8a69-aa66cd3c0dd4",
   "metadata": {},
   "outputs": [
    {
     "data": {
      "text/html": [
       "<div>\n",
       "<style scoped>\n",
       "    .dataframe tbody tr th:only-of-type {\n",
       "        vertical-align: middle;\n",
       "    }\n",
       "\n",
       "    .dataframe tbody tr th {\n",
       "        vertical-align: top;\n",
       "    }\n",
       "\n",
       "    .dataframe thead th {\n",
       "        text-align: right;\n",
       "    }\n",
       "</style>\n",
       "<table border=\"1\" class=\"dataframe\">\n",
       "  <thead>\n",
       "    <tr style=\"text-align: right;\">\n",
       "      <th></th>\n",
       "      <th>title</th>\n",
       "      <th>type</th>\n",
       "      <th>studios</th>\n",
       "      <th>theme</th>\n",
       "      <th>demographic</th>\n",
       "      <th>genres</th>\n",
       "      <th>synopsis</th>\n",
       "    </tr>\n",
       "  </thead>\n",
       "  <tbody>\n",
       "    <tr>\n",
       "      <th>24259</th>\n",
       "      <td>Seikoujo: Haitoku no Biden Dorei</td>\n",
       "      <td>OVA</td>\n",
       "      <td>Studio Jam</td>\n",
       "      <td>Unknown</td>\n",
       "      <td>Unknown</td>\n",
       "      <td>Hentai,</td>\n",
       "      <td>Sister Rosaria is working at the village`s loc...</td>\n",
       "    </tr>\n",
       "    <tr>\n",
       "      <th>24260</th>\n",
       "      <td>Chikan Juunin-tai The Animation</td>\n",
       "      <td>OVA</td>\n",
       "      <td>Sugar Boy</td>\n",
       "      <td>Unknown</td>\n",
       "      <td>Unknown</td>\n",
       "      <td>Hentai,</td>\n",
       "      <td>There are nine men and a single woman called \"...</td>\n",
       "    </tr>\n",
       "    <tr>\n",
       "      <th>24261</th>\n",
       "      <td>Gibo</td>\n",
       "      <td>OVA</td>\n",
       "      <td>Y.O.U.C</td>\n",
       "      <td>Unknown</td>\n",
       "      <td>Unknown</td>\n",
       "      <td>Drama,Romance,Hentai,</td>\n",
       "      <td>Yusuke's been very naughty. He's seduced his f...</td>\n",
       "    </tr>\n",
       "  </tbody>\n",
       "</table>\n",
       "</div>"
      ],
      "text/plain": [
       "                                  title type     studios    theme demographic  \\\n",
       "24259  Seikoujo: Haitoku no Biden Dorei  OVA  Studio Jam  Unknown     Unknown   \n",
       "24260   Chikan Juunin-tai The Animation  OVA   Sugar Boy  Unknown     Unknown   \n",
       "24261                              Gibo  OVA     Y.O.U.C  Unknown     Unknown   \n",
       "\n",
       "                      genres  \\\n",
       "24259                Hentai,   \n",
       "24260                Hentai,   \n",
       "24261  Drama,Romance,Hentai,   \n",
       "\n",
       "                                                synopsis  \n",
       "24259  Sister Rosaria is working at the village`s loc...  \n",
       "24260  There are nine men and a single woman called \"...  \n",
       "24261  Yusuke's been very naughty. He's seduced his f...  "
      ]
     },
     "execution_count": 4,
     "metadata": {},
     "output_type": "execute_result"
    }
   ],
   "source": [
    "mal_data = mal_df[['title', 'type', 'studios', 'theme', 'demographic', 'genres', 'synopsis']]\n",
    "mal_data.tail(3)"
   ]
  },
  {
   "cell_type": "markdown",
   "id": "df672c24-a810-48e0-97e3-7fdf6faece06",
   "metadata": {},
   "source": [
    "__Removing Missing Values.__"
   ]
  },
  {
   "cell_type": "code",
   "execution_count": 5,
   "id": "124fb6f8",
   "metadata": {},
   "outputs": [
    {
     "data": {
      "text/plain": [
       "title          0\n",
       "type           0\n",
       "studios        0\n",
       "theme          0\n",
       "demographic    0\n",
       "genres         0\n",
       "synopsis       0\n",
       "dtype: int64"
      ]
     },
     "execution_count": 5,
     "metadata": {},
     "output_type": "execute_result"
    }
   ],
   "source": [
    "mal_data.dropna(inplace=True)\n",
    "mal_data.isnull().sum()"
   ]
  },
  {
   "cell_type": "markdown",
   "id": "8bb16759-465a-467a-949c-d3f5a2b0f678",
   "metadata": {},
   "source": [
    "__Trimming Data to Essential Features.__"
   ]
  },
  {
   "cell_type": "code",
   "execution_count": 6,
   "id": "e368f1fe-f884-4658-b10d-ac9f3a104862",
   "metadata": {
    "scrolled": true
   },
   "outputs": [
    {
     "data": {
      "text/html": [
       "<div>\n",
       "<style scoped>\n",
       "    .dataframe tbody tr th:only-of-type {\n",
       "        vertical-align: middle;\n",
       "    }\n",
       "\n",
       "    .dataframe tbody tr th {\n",
       "        vertical-align: top;\n",
       "    }\n",
       "\n",
       "    .dataframe thead th {\n",
       "        text-align: right;\n",
       "    }\n",
       "</style>\n",
       "<table border=\"1\" class=\"dataframe\">\n",
       "  <thead>\n",
       "    <tr style=\"text-align: right;\">\n",
       "      <th></th>\n",
       "      <th>title</th>\n",
       "      <th>type</th>\n",
       "      <th>studios</th>\n",
       "      <th>demographic</th>\n",
       "      <th>genres</th>\n",
       "      <th>synopsis</th>\n",
       "    </tr>\n",
       "  </thead>\n",
       "  <tbody>\n",
       "    <tr>\n",
       "      <th>24259</th>\n",
       "      <td>Seikoujo: Haitoku no Biden Dorei</td>\n",
       "      <td>OVA</td>\n",
       "      <td>Studio Jam</td>\n",
       "      <td>Unknown</td>\n",
       "      <td>Hentai,</td>\n",
       "      <td>Sister Rosaria is working at the village`s loc...</td>\n",
       "    </tr>\n",
       "    <tr>\n",
       "      <th>24260</th>\n",
       "      <td>Chikan Juunin-tai The Animation</td>\n",
       "      <td>OVA</td>\n",
       "      <td>Sugar Boy</td>\n",
       "      <td>Unknown</td>\n",
       "      <td>Hentai,</td>\n",
       "      <td>There are nine men and a single woman called \"...</td>\n",
       "    </tr>\n",
       "    <tr>\n",
       "      <th>24261</th>\n",
       "      <td>Gibo</td>\n",
       "      <td>OVA</td>\n",
       "      <td>Y.O.U.C</td>\n",
       "      <td>Unknown</td>\n",
       "      <td>Drama,Romance,Hentai,</td>\n",
       "      <td>Yusuke's been very naughty. He's seduced his f...</td>\n",
       "    </tr>\n",
       "  </tbody>\n",
       "</table>\n",
       "</div>"
      ],
      "text/plain": [
       "                                  title type     studios demographic  \\\n",
       "24259  Seikoujo: Haitoku no Biden Dorei  OVA  Studio Jam     Unknown   \n",
       "24260   Chikan Juunin-tai The Animation  OVA   Sugar Boy     Unknown   \n",
       "24261                              Gibo  OVA     Y.O.U.C     Unknown   \n",
       "\n",
       "                      genres  \\\n",
       "24259                Hentai,   \n",
       "24260                Hentai,   \n",
       "24261  Drama,Romance,Hentai,   \n",
       "\n",
       "                                                synopsis  \n",
       "24259  Sister Rosaria is working at the village`s loc...  \n",
       "24260  There are nine men and a single woman called \"...  \n",
       "24261  Yusuke's been very naughty. He's seduced his f...  "
      ]
     },
     "execution_count": 6,
     "metadata": {},
     "output_type": "execute_result"
    }
   ],
   "source": [
    "mal_data = mal_df[['title', 'type', 'studios', 'demographic', 'genres', 'synopsis']]\n",
    "mal_data.tail(3)"
   ]
  },
  {
   "cell_type": "markdown",
   "id": "abde6f3b-34ac-4e02-85f0-a1452917b234",
   "metadata": {},
   "source": [
    "__Removing \"Unknown\" Elements.__"
   ]
  },
  {
   "cell_type": "code",
   "execution_count": 7,
   "id": "7e501034-9970-470c-bbf0-79fa83ef2ba3",
   "metadata": {},
   "outputs": [
    {
     "data": {
      "text/html": [
       "<div>\n",
       "<style scoped>\n",
       "    .dataframe tbody tr th:only-of-type {\n",
       "        vertical-align: middle;\n",
       "    }\n",
       "\n",
       "    .dataframe tbody tr th {\n",
       "        vertical-align: top;\n",
       "    }\n",
       "\n",
       "    .dataframe thead th {\n",
       "        text-align: right;\n",
       "    }\n",
       "</style>\n",
       "<table border=\"1\" class=\"dataframe\">\n",
       "  <thead>\n",
       "    <tr style=\"text-align: right;\">\n",
       "      <th></th>\n",
       "      <th>title</th>\n",
       "      <th>type</th>\n",
       "      <th>studios</th>\n",
       "      <th>demographic</th>\n",
       "      <th>genres</th>\n",
       "      <th>synopsis</th>\n",
       "    </tr>\n",
       "  </thead>\n",
       "  <tbody>\n",
       "    <tr>\n",
       "      <th>0</th>\n",
       "      <td>Fullmetal Alchemist: Brotherhood</td>\n",
       "      <td>TV</td>\n",
       "      <td>Bones</td>\n",
       "      <td>Shounen</td>\n",
       "      <td>Action,Adventure,Drama,Fantasy,</td>\n",
       "      <td>After a horrific alchemy experiment goes wrong...</td>\n",
       "    </tr>\n",
       "    <tr>\n",
       "      <th>2</th>\n",
       "      <td>Bleach: Sennen Kessen-hen</td>\n",
       "      <td>TV</td>\n",
       "      <td>Pierrot</td>\n",
       "      <td>Shounen</td>\n",
       "      <td>Action,Adventure,Fantasy,</td>\n",
       "      <td>Substitute Soul Reaper Ichigo Kurosaki spends ...</td>\n",
       "    </tr>\n",
       "    <tr>\n",
       "      <th>3</th>\n",
       "      <td>Gintama°</td>\n",
       "      <td>TV</td>\n",
       "      <td>Bandai Namco Pictures</td>\n",
       "      <td>Shounen</td>\n",
       "      <td>Action,Comedy,Sci-Fi,</td>\n",
       "      <td>Gintoki, Shinpachi, and Kagura return as the f...</td>\n",
       "    </tr>\n",
       "  </tbody>\n",
       "</table>\n",
       "</div>"
      ],
      "text/plain": [
       "                              title type                studios demographic  \\\n",
       "0  Fullmetal Alchemist: Brotherhood   TV                  Bones     Shounen   \n",
       "2         Bleach: Sennen Kessen-hen   TV                Pierrot     Shounen   \n",
       "3                          Gintama°   TV  Bandai Namco Pictures     Shounen   \n",
       "\n",
       "                            genres  \\\n",
       "0  Action,Adventure,Drama,Fantasy,   \n",
       "2        Action,Adventure,Fantasy,   \n",
       "3            Action,Comedy,Sci-Fi,   \n",
       "\n",
       "                                            synopsis  \n",
       "0  After a horrific alchemy experiment goes wrong...  \n",
       "2  Substitute Soul Reaper Ichigo Kurosaki spends ...  \n",
       "3  Gintoki, Shinpachi, and Kagura return as the f...  "
      ]
     },
     "execution_count": 7,
     "metadata": {},
     "output_type": "execute_result"
    }
   ],
   "source": [
    "mal_data = mal_data.drop(mal_data[mal_data['demographic'] == 'Unknown'].index)\n",
    "mal_data.head(3)"
   ]
  },
  {
   "cell_type": "markdown",
   "id": "c4deb4ec-2005-458d-b622-b451cc97a4d8",
   "metadata": {},
   "source": [
    "__Removing Commas in 'genres' and 'synopsis' Columns.__"
   ]
  },
  {
   "cell_type": "code",
   "execution_count": 9,
   "id": "d3230ae4-9770-4ae2-acae-38639f549eef",
   "metadata": {},
   "outputs": [
    {
     "data": {
      "text/html": [
       "<div>\n",
       "<style scoped>\n",
       "    .dataframe tbody tr th:only-of-type {\n",
       "        vertical-align: middle;\n",
       "    }\n",
       "\n",
       "    .dataframe tbody tr th {\n",
       "        vertical-align: top;\n",
       "    }\n",
       "\n",
       "    .dataframe thead th {\n",
       "        text-align: right;\n",
       "    }\n",
       "</style>\n",
       "<table border=\"1\" class=\"dataframe\">\n",
       "  <thead>\n",
       "    <tr style=\"text-align: right;\">\n",
       "      <th></th>\n",
       "      <th>title</th>\n",
       "      <th>type</th>\n",
       "      <th>studios</th>\n",
       "      <th>demographic</th>\n",
       "      <th>genres</th>\n",
       "      <th>synopsis</th>\n",
       "    </tr>\n",
       "  </thead>\n",
       "  <tbody>\n",
       "    <tr>\n",
       "      <th>0</th>\n",
       "      <td>Fullmetal Alchemist: Brotherhood</td>\n",
       "      <td>TV</td>\n",
       "      <td>Bones</td>\n",
       "      <td>Shounen</td>\n",
       "      <td>Action Adventure Drama Fantasy</td>\n",
       "      <td>After a horrific alchemy experiment goes wrong...</td>\n",
       "    </tr>\n",
       "    <tr>\n",
       "      <th>2</th>\n",
       "      <td>Bleach: Sennen Kessen-hen</td>\n",
       "      <td>TV</td>\n",
       "      <td>Pierrot</td>\n",
       "      <td>Shounen</td>\n",
       "      <td>Action Adventure Fantasy</td>\n",
       "      <td>Substitute Soul Reaper Ichigo Kurosaki spends ...</td>\n",
       "    </tr>\n",
       "    <tr>\n",
       "      <th>3</th>\n",
       "      <td>Gintama°</td>\n",
       "      <td>TV</td>\n",
       "      <td>Bandai Namco Pictures</td>\n",
       "      <td>Shounen</td>\n",
       "      <td>Action Comedy Sci-Fi</td>\n",
       "      <td>Gintoki, Shinpachi, and Kagura return as the f...</td>\n",
       "    </tr>\n",
       "    <tr>\n",
       "      <th>4</th>\n",
       "      <td>Kaguya-sama wa Kokurasetai: Ultra Romantic</td>\n",
       "      <td>TV</td>\n",
       "      <td>A-1 Pictures</td>\n",
       "      <td>Seinen</td>\n",
       "      <td>Comedy Romance</td>\n",
       "      <td>The elite members of Shuchiin Academy student ...</td>\n",
       "    </tr>\n",
       "    <tr>\n",
       "      <th>5</th>\n",
       "      <td>Shingeki no Kyojin Season 3 Part 2</td>\n",
       "      <td>TV</td>\n",
       "      <td>Wit Studio</td>\n",
       "      <td>Shounen</td>\n",
       "      <td>Action Drama</td>\n",
       "      <td>Seeking to restore humanity diminishing hope, ...</td>\n",
       "    </tr>\n",
       "  </tbody>\n",
       "</table>\n",
       "</div>"
      ],
      "text/plain": [
       "                                        title type                studios  \\\n",
       "0            Fullmetal Alchemist: Brotherhood   TV                  Bones   \n",
       "2                   Bleach: Sennen Kessen-hen   TV                Pierrot   \n",
       "3                                    Gintama°   TV  Bandai Namco Pictures   \n",
       "4  Kaguya-sama wa Kokurasetai: Ultra Romantic   TV           A-1 Pictures   \n",
       "5          Shingeki no Kyojin Season 3 Part 2   TV             Wit Studio   \n",
       "\n",
       "  demographic                           genres  \\\n",
       "0     Shounen  Action Adventure Drama Fantasy    \n",
       "2     Shounen        Action Adventure Fantasy    \n",
       "3     Shounen            Action Comedy Sci-Fi    \n",
       "4      Seinen                  Comedy Romance    \n",
       "5     Shounen                    Action Drama    \n",
       "\n",
       "                                            synopsis  \n",
       "0  After a horrific alchemy experiment goes wrong...  \n",
       "2  Substitute Soul Reaper Ichigo Kurosaki spends ...  \n",
       "3  Gintoki, Shinpachi, and Kagura return as the f...  \n",
       "4  The elite members of Shuchiin Academy student ...  \n",
       "5  Seeking to restore humanity diminishing hope, ...  "
      ]
     },
     "execution_count": 9,
     "metadata": {},
     "output_type": "execute_result"
    }
   ],
   "source": [
    "mal_data['genres'] = mal_data['genres'].str.replace(',',' ')\n",
    "mal_data['synopsis'] = mal_data['synopsis'].str.replace(\"'s\",'')\n",
    "mal_data.head()"
   ]
  },
  {
   "cell_type": "code",
   "execution_count": 10,
   "id": "7ba73395-d851-49cf-ba54-b2fcf70f814a",
   "metadata": {},
   "outputs": [],
   "source": [
    "def comma_remove(string):\n",
    "    result = \"\"\n",
    "    for text in string:\n",
    "        if text != \",\":\n",
    "            result += text\n",
    "    return result"
   ]
  },
  {
   "cell_type": "code",
   "execution_count": 11,
   "id": "09fb88cb-68cf-4078-bdc0-ea21701c17c9",
   "metadata": {},
   "outputs": [
    {
     "data": {
      "text/html": [
       "<div>\n",
       "<style scoped>\n",
       "    .dataframe tbody tr th:only-of-type {\n",
       "        vertical-align: middle;\n",
       "    }\n",
       "\n",
       "    .dataframe tbody tr th {\n",
       "        vertical-align: top;\n",
       "    }\n",
       "\n",
       "    .dataframe thead th {\n",
       "        text-align: right;\n",
       "    }\n",
       "</style>\n",
       "<table border=\"1\" class=\"dataframe\">\n",
       "  <thead>\n",
       "    <tr style=\"text-align: right;\">\n",
       "      <th></th>\n",
       "      <th>title</th>\n",
       "      <th>type</th>\n",
       "      <th>studios</th>\n",
       "      <th>demographic</th>\n",
       "      <th>genres</th>\n",
       "      <th>synopsis</th>\n",
       "    </tr>\n",
       "  </thead>\n",
       "  <tbody>\n",
       "    <tr>\n",
       "      <th>0</th>\n",
       "      <td>Fullmetal Alchemist: Brotherhood</td>\n",
       "      <td>TV</td>\n",
       "      <td>Bones</td>\n",
       "      <td>Shounen</td>\n",
       "      <td>Action Adventure Drama Fantasy</td>\n",
       "      <td>After a horrific alchemy experiment goes wrong...</td>\n",
       "    </tr>\n",
       "    <tr>\n",
       "      <th>2</th>\n",
       "      <td>Bleach: Sennen Kessen-hen</td>\n",
       "      <td>TV</td>\n",
       "      <td>Pierrot</td>\n",
       "      <td>Shounen</td>\n",
       "      <td>Action Adventure Fantasy</td>\n",
       "      <td>Substitute Soul Reaper Ichigo Kurosaki spends ...</td>\n",
       "    </tr>\n",
       "    <tr>\n",
       "      <th>3</th>\n",
       "      <td>Gintama°</td>\n",
       "      <td>TV</td>\n",
       "      <td>Bandai Namco Pictures</td>\n",
       "      <td>Shounen</td>\n",
       "      <td>Action Comedy Sci-Fi</td>\n",
       "      <td>Gintoki Shinpachi and Kagura return as the fun...</td>\n",
       "    </tr>\n",
       "    <tr>\n",
       "      <th>4</th>\n",
       "      <td>Kaguya-sama wa Kokurasetai: Ultra Romantic</td>\n",
       "      <td>TV</td>\n",
       "      <td>A-1 Pictures</td>\n",
       "      <td>Seinen</td>\n",
       "      <td>Comedy Romance</td>\n",
       "      <td>The elite members of Shuchiin Academy student ...</td>\n",
       "    </tr>\n",
       "    <tr>\n",
       "      <th>5</th>\n",
       "      <td>Shingeki no Kyojin Season 3 Part 2</td>\n",
       "      <td>TV</td>\n",
       "      <td>Wit Studio</td>\n",
       "      <td>Shounen</td>\n",
       "      <td>Action Drama</td>\n",
       "      <td>Seeking to restore humanity diminishing hope t...</td>\n",
       "    </tr>\n",
       "  </tbody>\n",
       "</table>\n",
       "</div>"
      ],
      "text/plain": [
       "                                        title type                studios  \\\n",
       "0            Fullmetal Alchemist: Brotherhood   TV                  Bones   \n",
       "2                   Bleach: Sennen Kessen-hen   TV                Pierrot   \n",
       "3                                    Gintama°   TV  Bandai Namco Pictures   \n",
       "4  Kaguya-sama wa Kokurasetai: Ultra Romantic   TV           A-1 Pictures   \n",
       "5          Shingeki no Kyojin Season 3 Part 2   TV             Wit Studio   \n",
       "\n",
       "  demographic                           genres  \\\n",
       "0     Shounen  Action Adventure Drama Fantasy    \n",
       "2     Shounen        Action Adventure Fantasy    \n",
       "3     Shounen            Action Comedy Sci-Fi    \n",
       "4      Seinen                  Comedy Romance    \n",
       "5     Shounen                    Action Drama    \n",
       "\n",
       "                                            synopsis  \n",
       "0  After a horrific alchemy experiment goes wrong...  \n",
       "2  Substitute Soul Reaper Ichigo Kurosaki spends ...  \n",
       "3  Gintoki Shinpachi and Kagura return as the fun...  \n",
       "4  The elite members of Shuchiin Academy student ...  \n",
       "5  Seeking to restore humanity diminishing hope t...  "
      ]
     },
     "execution_count": 11,
     "metadata": {},
     "output_type": "execute_result"
    }
   ],
   "source": [
    "mal_data[\"synopsis\"] = mal_data['synopsis'].apply(comma_remove)\n",
    "mal_data.head()"
   ]
  },
  {
   "cell_type": "markdown",
   "id": "6ed03aeb-7e00-4164-affb-a6fc25a65432",
   "metadata": {},
   "source": [
    "__Tokenizing Text in the type, studios, demographic, genres, and synopsis Columns.__"
   ]
  },
  {
   "cell_type": "code",
   "execution_count": 12,
   "id": "497bd00c-97fe-41bf-96d6-a507b713a4d7",
   "metadata": {},
   "outputs": [],
   "source": [
    "## import nltk\n",
    "## nltk.download('punkt')"
   ]
  },
  {
   "cell_type": "code",
   "execution_count": 13,
   "id": "674395c1-38d7-4c34-9903-2c1d0b344234",
   "metadata": {},
   "outputs": [],
   "source": [
    "from nltk.tokenize import word_tokenize\n",
    "\n",
    "def text_tokenize(text):\n",
    "    return word_tokenize(text)"
   ]
  },
  {
   "cell_type": "code",
   "execution_count": 14,
   "id": "100e3ce9-a0a8-47a5-acf4-a051436aed9b",
   "metadata": {},
   "outputs": [
    {
     "data": {
      "text/html": [
       "<div>\n",
       "<style scoped>\n",
       "    .dataframe tbody tr th:only-of-type {\n",
       "        vertical-align: middle;\n",
       "    }\n",
       "\n",
       "    .dataframe tbody tr th {\n",
       "        vertical-align: top;\n",
       "    }\n",
       "\n",
       "    .dataframe thead th {\n",
       "        text-align: right;\n",
       "    }\n",
       "</style>\n",
       "<table border=\"1\" class=\"dataframe\">\n",
       "  <thead>\n",
       "    <tr style=\"text-align: right;\">\n",
       "      <th></th>\n",
       "      <th>title</th>\n",
       "      <th>type</th>\n",
       "      <th>studios</th>\n",
       "      <th>demographic</th>\n",
       "      <th>genres</th>\n",
       "      <th>synopsis</th>\n",
       "    </tr>\n",
       "  </thead>\n",
       "  <tbody>\n",
       "    <tr>\n",
       "      <th>0</th>\n",
       "      <td>Fullmetal Alchemist: Brotherhood</td>\n",
       "      <td>[TV]</td>\n",
       "      <td>[Bones]</td>\n",
       "      <td>[Shounen]</td>\n",
       "      <td>[Action, Adventure, Drama, Fantasy]</td>\n",
       "      <td>[After, a, horrific, alchemy, experiment, goes...</td>\n",
       "    </tr>\n",
       "    <tr>\n",
       "      <th>2</th>\n",
       "      <td>Bleach: Sennen Kessen-hen</td>\n",
       "      <td>[TV]</td>\n",
       "      <td>[Pierrot]</td>\n",
       "      <td>[Shounen]</td>\n",
       "      <td>[Action, Adventure, Fantasy]</td>\n",
       "      <td>[Substitute, Soul, Reaper, Ichigo, Kurosaki, s...</td>\n",
       "    </tr>\n",
       "    <tr>\n",
       "      <th>3</th>\n",
       "      <td>Gintama°</td>\n",
       "      <td>[TV]</td>\n",
       "      <td>[Bandai, Namco, Pictures]</td>\n",
       "      <td>[Shounen]</td>\n",
       "      <td>[Action, Comedy, Sci-Fi]</td>\n",
       "      <td>[Gintoki, Shinpachi, and, Kagura, return, as, ...</td>\n",
       "    </tr>\n",
       "    <tr>\n",
       "      <th>4</th>\n",
       "      <td>Kaguya-sama wa Kokurasetai: Ultra Romantic</td>\n",
       "      <td>[TV]</td>\n",
       "      <td>[A-1, Pictures]</td>\n",
       "      <td>[Seinen]</td>\n",
       "      <td>[Comedy, Romance]</td>\n",
       "      <td>[The, elite, members, of, Shuchiin, Academy, s...</td>\n",
       "    </tr>\n",
       "    <tr>\n",
       "      <th>5</th>\n",
       "      <td>Shingeki no Kyojin Season 3 Part 2</td>\n",
       "      <td>[TV]</td>\n",
       "      <td>[Wit, Studio]</td>\n",
       "      <td>[Shounen]</td>\n",
       "      <td>[Action, Drama]</td>\n",
       "      <td>[Seeking, to, restore, humanity, diminishing, ...</td>\n",
       "    </tr>\n",
       "  </tbody>\n",
       "</table>\n",
       "</div>"
      ],
      "text/plain": [
       "                                        title  type  \\\n",
       "0            Fullmetal Alchemist: Brotherhood  [TV]   \n",
       "2                   Bleach: Sennen Kessen-hen  [TV]   \n",
       "3                                    Gintama°  [TV]   \n",
       "4  Kaguya-sama wa Kokurasetai: Ultra Romantic  [TV]   \n",
       "5          Shingeki no Kyojin Season 3 Part 2  [TV]   \n",
       "\n",
       "                     studios demographic                               genres  \\\n",
       "0                    [Bones]   [Shounen]  [Action, Adventure, Drama, Fantasy]   \n",
       "2                  [Pierrot]   [Shounen]         [Action, Adventure, Fantasy]   \n",
       "3  [Bandai, Namco, Pictures]   [Shounen]             [Action, Comedy, Sci-Fi]   \n",
       "4            [A-1, Pictures]    [Seinen]                    [Comedy, Romance]   \n",
       "5              [Wit, Studio]   [Shounen]                      [Action, Drama]   \n",
       "\n",
       "                                            synopsis  \n",
       "0  [After, a, horrific, alchemy, experiment, goes...  \n",
       "2  [Substitute, Soul, Reaper, Ichigo, Kurosaki, s...  \n",
       "3  [Gintoki, Shinpachi, and, Kagura, return, as, ...  \n",
       "4  [The, elite, members, of, Shuchiin, Academy, s...  \n",
       "5  [Seeking, to, restore, humanity, diminishing, ...  "
      ]
     },
     "execution_count": 14,
     "metadata": {},
     "output_type": "execute_result"
    }
   ],
   "source": [
    "mal_data['type'] = mal_data['type'].apply(text_tokenize)\n",
    "mal_data['studios'] = mal_data['studios'].apply(text_tokenize)\n",
    "mal_data['demographic'] = mal_data['demographic'].apply(text_tokenize)\n",
    "mal_data['genres'] = mal_data['genres'].apply(text_tokenize)\n",
    "mal_data['synopsis'] = mal_data['synopsis'].apply(text_tokenize)\n",
    "mal_data.head()"
   ]
  },
  {
   "cell_type": "markdown",
   "id": "f722e511-f241-4006-9e10-e2cb92d4f92d",
   "metadata": {},
   "source": [
    "__Creating Column 'tags' By Merging Column Aside from 'title', and Creating a New DF from them.__"
   ]
  },
  {
   "cell_type": "code",
   "execution_count": 15,
   "id": "3512b2ff-a587-46eb-a539-bb2bc5ffb319",
   "metadata": {
    "scrolled": true
   },
   "outputs": [
    {
     "data": {
      "text/html": [
       "<div>\n",
       "<style scoped>\n",
       "    .dataframe tbody tr th:only-of-type {\n",
       "        vertical-align: middle;\n",
       "    }\n",
       "\n",
       "    .dataframe tbody tr th {\n",
       "        vertical-align: top;\n",
       "    }\n",
       "\n",
       "    .dataframe thead th {\n",
       "        text-align: right;\n",
       "    }\n",
       "</style>\n",
       "<table border=\"1\" class=\"dataframe\">\n",
       "  <thead>\n",
       "    <tr style=\"text-align: right;\">\n",
       "      <th></th>\n",
       "      <th>title</th>\n",
       "      <th>tags</th>\n",
       "    </tr>\n",
       "  </thead>\n",
       "  <tbody>\n",
       "    <tr>\n",
       "      <th>0</th>\n",
       "      <td>Fullmetal Alchemist: Brotherhood</td>\n",
       "      <td>[TV, Shounen, Bones, Action, Adventure, Drama,...</td>\n",
       "    </tr>\n",
       "  </tbody>\n",
       "</table>\n",
       "</div>"
      ],
      "text/plain": [
       "                              title  \\\n",
       "0  Fullmetal Alchemist: Brotherhood   \n",
       "\n",
       "                                                tags  \n",
       "0  [TV, Shounen, Bones, Action, Adventure, Drama,...  "
      ]
     },
     "execution_count": 15,
     "metadata": {},
     "output_type": "execute_result"
    }
   ],
   "source": [
    "mal_data['tags'] = mal_data['type'] + mal_data['demographic'] + mal_data['studios'] + mal_data['genres'] + mal_data['synopsis']\n",
    "\n",
    "anime_tag_data = mal_data[['title', 'tags']]\n",
    "anime_tag_data.head(1)"
   ]
  },
  {
   "cell_type": "markdown",
   "id": "c901e8e1-70dc-411c-a060-38bfda2b0c1d",
   "metadata": {},
   "source": [
    "__.__"
   ]
  },
  {
   "cell_type": "markdown",
   "id": "d9641109-f560-4315-a1f6-147af20a75fb",
   "metadata": {},
   "source": [
    "__Joining the Text of the 'tags' column.__"
   ]
  },
  {
   "cell_type": "code",
   "execution_count": 16,
   "id": "590604d4-5525-4357-9e44-4517949b3468",
   "metadata": {},
   "outputs": [
    {
     "data": {
      "text/html": [
       "<div>\n",
       "<style scoped>\n",
       "    .dataframe tbody tr th:only-of-type {\n",
       "        vertical-align: middle;\n",
       "    }\n",
       "\n",
       "    .dataframe tbody tr th {\n",
       "        vertical-align: top;\n",
       "    }\n",
       "\n",
       "    .dataframe thead th {\n",
       "        text-align: right;\n",
       "    }\n",
       "</style>\n",
       "<table border=\"1\" class=\"dataframe\">\n",
       "  <thead>\n",
       "    <tr style=\"text-align: right;\">\n",
       "      <th></th>\n",
       "      <th>title</th>\n",
       "      <th>tags</th>\n",
       "    </tr>\n",
       "  </thead>\n",
       "  <tbody>\n",
       "    <tr>\n",
       "      <th>0</th>\n",
       "      <td>Fullmetal Alchemist: Brotherhood</td>\n",
       "      <td>tv shounen bones action adventure drama fantas...</td>\n",
       "    </tr>\n",
       "  </tbody>\n",
       "</table>\n",
       "</div>"
      ],
      "text/plain": [
       "                              title  \\\n",
       "0  Fullmetal Alchemist: Brotherhood   \n",
       "\n",
       "                                                tags  \n",
       "0  tv shounen bones action adventure drama fantas...  "
      ]
     },
     "execution_count": 16,
     "metadata": {},
     "output_type": "execute_result"
    }
   ],
   "source": [
    "anime_tag_data['tags'] = anime_tag_data['tags'].apply(lambda x:' '.join(x))\n",
    "\n",
    "'''\n",
    "Converting to Lowercase\n",
    "'''\n",
    "anime_tag_data['tags'] = anime_tag_data['tags'].apply(lambda X:X.lower())\n",
    "anime_tag_data.head(1)"
   ]
  },
  {
   "cell_type": "markdown",
   "id": "7806b8fc-9cf7-4d1c-8a5b-76e6e9f4038d",
   "metadata": {},
   "source": [
    "__Utilizing sklearn's CountVectorizer to Vectorize 'tags' column.__"
   ]
  },
  {
   "cell_type": "code",
   "execution_count": 17,
   "id": "9f6509e4-2af0-4292-b8a4-7abde2aa5ba8",
   "metadata": {},
   "outputs": [],
   "source": [
    "from sklearn.feature_extraction.text import CountVectorizer\n",
    "cv = CountVectorizer(max_features = 5000 , stop_words = 'english')"
   ]
  },
  {
   "cell_type": "code",
   "execution_count": 18,
   "id": "e24eb285-3451-4ffc-a101-d710af4df404",
   "metadata": {},
   "outputs": [
    {
     "data": {
      "text/plain": [
       "(9385, 5000)"
      ]
     },
     "execution_count": 18,
     "metadata": {},
     "output_type": "execute_result"
    }
   ],
   "source": [
    "tags_vectors = cv.fit_transform(anime_tag_data['tags']).toarray()\n",
    "tags_vectors.shape"
   ]
  },
  {
   "cell_type": "markdown",
   "id": "9c4e274e-aa3f-4683-bdcf-e733f27c3bc2",
   "metadata": {},
   "source": [
    "__Utilizing sklearn's cosine_similarity to Determine Similarity Between Vectors.__\n",
    "\n",
    "<span style='color:Purple'>\n",
    "Cosine similarity measures the similarity between two vectors of an inner product space. It is measured by the cosine of the angle between two vectors and determines whether two vectors are pointing in roughly the same direction. "
   ]
  },
  {
   "cell_type": "code",
   "execution_count": 19,
   "id": "c08d5ba1",
   "metadata": {},
   "outputs": [],
   "source": [
    "from sklearn.metrics.pairwise import cosine_similarity"
   ]
  },
  {
   "cell_type": "code",
   "execution_count": 20,
   "id": "6f767640",
   "metadata": {},
   "outputs": [
    {
     "data": {
      "text/plain": [
       "array([[1.        , 0.13675713, 0.07027391, ..., 0.03723908, 0.        ,\n",
       "        0.05219168],\n",
       "       [0.13675713, 1.        , 0.11025331, ..., 0.03755873, 0.01936008,\n",
       "        0.03509312],\n",
       "       [0.07027391, 0.11025331, 1.        , ..., 0.03431093, 0.01768596,\n",
       "        0.03205853],\n",
       "       ...,\n",
       "       [0.03723908, 0.03755873, 0.03431093, ..., 1.        , 0.02811608,\n",
       "        0.05096472],\n",
       "       [0.        , 0.01936008, 0.01768596, ..., 0.02811608, 1.        ,\n",
       "        0.1970276 ],\n",
       "       [0.05219168, 0.03509312, 0.03205853, ..., 0.05096472, 0.1970276 ,\n",
       "        1.        ]])"
      ]
     },
     "execution_count": 20,
     "metadata": {},
     "output_type": "execute_result"
    }
   ],
   "source": [
    "cosine_similarity(tags_vectors)"
   ]
  },
  {
   "cell_type": "code",
   "execution_count": 21,
   "id": "c1b38cbc",
   "metadata": {},
   "outputs": [
    {
     "data": {
      "text/plain": [
       "(9385, 9385)"
      ]
     },
     "execution_count": 21,
     "metadata": {},
     "output_type": "execute_result"
    }
   ],
   "source": [
    "cosine_similarity(tags_vectors).shape"
   ]
  },
  {
   "cell_type": "markdown",
   "id": "63b4011b-a1a7-434d-90ad-ef8df9d2cc6a",
   "metadata": {},
   "source": [
    "__Assigning Variable Similarity.__"
   ]
  },
  {
   "cell_type": "code",
   "execution_count": 22,
   "id": "31481503",
   "metadata": {},
   "outputs": [],
   "source": [
    "tags_similarity = cosine_similarity(tags_vectors)"
   ]
  },
  {
   "cell_type": "code",
   "execution_count": 23,
   "id": "e8d9735c",
   "metadata": {},
   "outputs": [
    {
     "data": {
      "text/plain": [
       "[(259, 0.5052071823605382),\n",
       " (1304, 0.35530545135683),\n",
       " (863, 0.3210438768545213),\n",
       " (3801, 0.2058467423981546),\n",
       " (982, 0.1860601169537944)]"
      ]
     },
     "execution_count": 23,
     "metadata": {},
     "output_type": "execute_result"
    }
   ],
   "source": [
    "sorted(list(enumerate(tags_similarity[0])) , reverse = True , key = lambda x:x[1])[1:6]"
   ]
  },
  {
   "cell_type": "markdown",
   "id": "86cf6d4b-7a50-42e4-9653-0a79b640117b",
   "metadata": {},
   "source": [
    "__Creating Function to Provide 10 Anime Recommendations based on Cosine Similarity.__"
   ]
  },
  {
   "cell_type": "code",
   "execution_count": 29,
   "id": "c0535b04",
   "metadata": {},
   "outputs": [],
   "source": [
    "def anime_recommend(anime):\n",
    "    indexed_anime = anime_tag_data[anime_tag_data['title'] == anime].index[0]\n",
    "    distances = tags_similarity[indexed_anime]\n",
    "    anime_list = sorted(list(enumerate(distances)) , reverse = True , key = lambda x:x[1])[0:10]\n",
    "    print(\"You Might Also Like:\")\n",
    "    print(\"*\" * 55)\n",
    "\n",
    "    for i in anime_list:\n",
    "        print(anime_tag_data.iloc[i[0]].title)"
   ]
  },
  {
   "cell_type": "code",
   "execution_count": 25,
   "id": "bf0d3df8-36b9-4ce0-8fc0-e8de181025e1",
   "metadata": {},
   "outputs": [
    {
     "data": {
      "text/html": [
       "<div>\n",
       "<style scoped>\n",
       "    .dataframe tbody tr th:only-of-type {\n",
       "        vertical-align: middle;\n",
       "    }\n",
       "\n",
       "    .dataframe tbody tr th {\n",
       "        vertical-align: top;\n",
       "    }\n",
       "\n",
       "    .dataframe thead th {\n",
       "        text-align: right;\n",
       "    }\n",
       "</style>\n",
       "<table border=\"1\" class=\"dataframe\">\n",
       "  <thead>\n",
       "    <tr style=\"text-align: right;\">\n",
       "      <th></th>\n",
       "      <th>title</th>\n",
       "      <th>tags</th>\n",
       "    </tr>\n",
       "  </thead>\n",
       "  <tbody>\n",
       "    <tr>\n",
       "      <th>0</th>\n",
       "      <td>Fullmetal Alchemist: Brotherhood</td>\n",
       "      <td>tv shounen bones action adventure drama fantas...</td>\n",
       "    </tr>\n",
       "    <tr>\n",
       "      <th>2</th>\n",
       "      <td>Bleach: Sennen Kessen-hen</td>\n",
       "      <td>tv shounen pierrot action adventure fantasy su...</td>\n",
       "    </tr>\n",
       "    <tr>\n",
       "      <th>3</th>\n",
       "      <td>Gintama°</td>\n",
       "      <td>tv shounen bandai namco pictures action comedy...</td>\n",
       "    </tr>\n",
       "    <tr>\n",
       "      <th>4</th>\n",
       "      <td>Kaguya-sama wa Kokurasetai: Ultra Romantic</td>\n",
       "      <td>tv seinen a-1 pictures comedy romance the elit...</td>\n",
       "    </tr>\n",
       "    <tr>\n",
       "      <th>5</th>\n",
       "      <td>Shingeki no Kyojin Season 3 Part 2</td>\n",
       "      <td>tv shounen wit studio action drama seeking to ...</td>\n",
       "    </tr>\n",
       "    <tr>\n",
       "      <th>...</th>\n",
       "      <td>...</td>\n",
       "      <td>...</td>\n",
       "    </tr>\n",
       "    <tr>\n",
       "      <th>24116</th>\n",
       "      <td>Ore no Yubi de Midarero.: Heitengo Futarikiri ...</td>\n",
       "      <td>ona josei magic bus hentai fumi hoshiya works ...</td>\n",
       "    </tr>\n",
       "    <tr>\n",
       "      <th>24176</th>\n",
       "      <td>Aki-Sora: Yume no Naka</td>\n",
       "      <td>ova seinen hoods entertainment romance erotica...</td>\n",
       "    </tr>\n",
       "    <tr>\n",
       "      <th>24248</th>\n",
       "      <td>Aki-Sora</td>\n",
       "      <td>ova seinen hoods entertainment romance erotica...</td>\n",
       "    </tr>\n",
       "    <tr>\n",
       "      <th>24255</th>\n",
       "      <td>Ookami-san wa Taberaretai</td>\n",
       "      <td>ona josei peak hunt romance hentai `` i want a...</td>\n",
       "    </tr>\n",
       "    <tr>\n",
       "      <th>24256</th>\n",
       "      <td>Ouji no Honmei wa Akuyaku Reijou</td>\n",
       "      <td>ona josei studio hokiboshi fantasy romance hen...</td>\n",
       "    </tr>\n",
       "  </tbody>\n",
       "</table>\n",
       "<p>9385 rows × 2 columns</p>\n",
       "</div>"
      ],
      "text/plain": [
       "                                                   title  \\\n",
       "0                       Fullmetal Alchemist: Brotherhood   \n",
       "2                              Bleach: Sennen Kessen-hen   \n",
       "3                                               Gintama°   \n",
       "4             Kaguya-sama wa Kokurasetai: Ultra Romantic   \n",
       "5                     Shingeki no Kyojin Season 3 Part 2   \n",
       "...                                                  ...   \n",
       "24116  Ore no Yubi de Midarero.: Heitengo Futarikiri ...   \n",
       "24176                             Aki-Sora: Yume no Naka   \n",
       "24248                                           Aki-Sora   \n",
       "24255                          Ookami-san wa Taberaretai   \n",
       "24256                   Ouji no Honmei wa Akuyaku Reijou   \n",
       "\n",
       "                                                    tags  \n",
       "0      tv shounen bones action adventure drama fantas...  \n",
       "2      tv shounen pierrot action adventure fantasy su...  \n",
       "3      tv shounen bandai namco pictures action comedy...  \n",
       "4      tv seinen a-1 pictures comedy romance the elit...  \n",
       "5      tv shounen wit studio action drama seeking to ...  \n",
       "...                                                  ...  \n",
       "24116  ona josei magic bus hentai fumi hoshiya works ...  \n",
       "24176  ova seinen hoods entertainment romance erotica...  \n",
       "24248  ova seinen hoods entertainment romance erotica...  \n",
       "24255  ona josei peak hunt romance hentai `` i want a...  \n",
       "24256  ona josei studio hokiboshi fantasy romance hen...  \n",
       "\n",
       "[9385 rows x 2 columns]"
      ]
     },
     "execution_count": 25,
     "metadata": {},
     "output_type": "execute_result"
    }
   ],
   "source": [
    "anime_tag_data"
   ]
  },
  {
   "cell_type": "code",
   "execution_count": 28,
   "id": "e7b57ff4-bf2d-47ef-8eca-de6d56280cec",
   "metadata": {},
   "outputs": [
    {
     "name": "stdout",
     "output_type": "stream",
     "text": [
      "You Might Also Like:\n",
      "**************************************************\n",
      "Uchuu Kaizoku Captain Herlock\n",
      "No Guns Life 2nd Season\n",
      "Bakuten Shoot Beyblade 2002\n",
      "Aoki Hagane no Arpeggio: Ars Nova Movie 2 - Cadenza\n",
      "Saraiya Goyou\n",
      "Strike Witches: 501 Butai Hasshin Shimasu!\n",
      "Bishoujo Senshi Sailor Moon R\n",
      "UFO Robo Grendizer\n",
      "Dragon Ball Z Movie 03: Chikyuu Marugoto Choukessen\n",
      "Akira\n"
     ]
    }
   ],
   "source": [
    "anime_recommend(\"Tokyo Revengers\")"
   ]
  },
  {
   "cell_type": "code",
   "execution_count": 31,
   "id": "975cad49-77a2-438e-803a-db511f1b4bbb",
   "metadata": {},
   "outputs": [
    {
     "name": "stdout",
     "output_type": "stream",
     "text": [
      "You Might Also Like:\n",
      "*******************************************************\n",
      "Chainsaw Man\n",
      "Saiki Kusuo no Ψ-nan 2\n",
      "Jigokuraku\n",
      "Tokimeki Tonight\n",
      "Morengen\n",
      "Shounen Sunday CM: Devil & Devil\n",
      "Shin Shirayuki-hime Densetsu Prétear\n",
      "Sankarea\n",
      "Saiki Kusuo no Ψ-nan\n",
      "Baku Tech! Bakugan\n"
     ]
    }
   ],
   "source": [
    "anime_recommend(\"One Piece\")"
   ]
  },
  {
   "cell_type": "code",
   "execution_count": 32,
   "id": "d7c7d39b-e36b-47ce-a8ab-e5c4f507455a",
   "metadata": {},
   "outputs": [
    {
     "name": "stdout",
     "output_type": "stream",
     "text": [
      "You Might Also Like:\n",
      "*******************************************************\n",
      "Jujutsu Kaisen 0 Movie\n",
      "Jujutsu Kaisen Official PV\n",
      "Kimi to Boku.\n",
      "Dokyuu Hentai HxEros\n",
      "Orange: Mirai\n",
      "Jujutsu Kaisen 2nd Season\n",
      "Jujutsu Kaisen\n",
      "School Rumble\n",
      "High Score Girl II\n",
      "Sono Bisque Doll wa Koi wo Suru\n"
     ]
    }
   ],
   "source": [
    "anime_recommend(\"Chainsaw Man\")"
   ]
  },
  {
   "cell_type": "code",
   "execution_count": 39,
   "id": "659f326f-8a28-42ac-8125-5aeef09b0684",
   "metadata": {},
   "outputs": [
    {
     "name": "stdout",
     "output_type": "stream",
     "text": [
      "You Might Also Like:\n",
      "*******************************************************\n",
      "Prison School\n",
      "Starry☆Sky\n",
      "Busou Shoujo Machiavellianism\n",
      "Aiura\n",
      "Ishida to Asakura\n",
      "Kougyou Aika Volley Boys\n",
      "Himegoto\n",
      "Princess Princess\n",
      "Prison School: Mad Wax\n",
      "Sakigake!! Cromartie Koukou\n"
     ]
    }
   ],
   "source": [
    "anime_recommend(\"Bleach\")"
   ]
  },
  {
   "cell_type": "code",
   "execution_count": 43,
   "id": "e50ad2b0-6be7-4601-a2a4-da8349fa22f4",
   "metadata": {},
   "outputs": [
    {
     "name": "stdout",
     "output_type": "stream",
     "text": [
      "You Might Also Like:\n",
      "*******************************************************\n",
      "Himouto! Umaru-chan R\n",
      "Himouto! Umaru-chan\n",
      "Himouto! Umaru-chanS\n",
      "Boku no Marie\n",
      "Tono to Issho: Gantai no Yabou\n",
      "Tono to Issho: Ippunkan Gekijou\n",
      "Nil Admirari no Tenbin\n",
      "Mitsuami no Kamisama\n",
      "Nazo no Kanojo X\n",
      "Elfen Lied: Tooriame nite Arui wa, Shoujo wa Ikani Shite Sono Shinjou ni Itatta ka? - Regenschauer\n"
     ]
    }
   ],
   "source": [
    "anime_recommend(\"Fruits Basket\")"
   ]
  },
  {
   "cell_type": "code",
   "execution_count": null,
   "id": "321cb737-63b5-4911-b090-907f8e970014",
   "metadata": {},
   "outputs": [],
   "source": [
    "anime_recommend(\"\")"
   ]
  },
  {
   "cell_type": "code",
   "execution_count": null,
   "id": "9851f344-e00d-42ec-bf89-830c3d090c86",
   "metadata": {},
   "outputs": [],
   "source": [
    "anime_recommend(\"\")"
   ]
  },
  {
   "cell_type": "code",
   "execution_count": null,
   "id": "a917854b-3cb2-4900-9a88-70dbd2c68481",
   "metadata": {},
   "outputs": [],
   "source": [
    "anime_recommend(\"\")"
   ]
  },
  {
   "cell_type": "markdown",
   "id": "868bede9-40f5-4803-b826-7b986728d4ab",
   "metadata": {},
   "source": [
    " <hr style=\"border:2px solid black\"> "
   ]
  },
  {
   "cell_type": "markdown",
   "id": "7115e920-3b3c-41a9-b906-067961a708fd",
   "metadata": {},
   "source": [
    "## References"
   ]
  },
  {
   "cell_type": "markdown",
   "id": "853ff6d0-5865-479d-a941-ff714615535d",
   "metadata": {},
   "source": [
    "*__Cosine Similarity:__*\n",
    "\n",
    "https://www.sciencedirect.com/topics/computer-science/cosine-similarity#:~:text=Cosine%20similarity%20measures%20the%20similarity,document%20similarity%20in%20text%20analysis."
   ]
  }
 ],
 "metadata": {
  "kernelspec": {
   "display_name": "Python 3 (ipykernel)",
   "language": "python",
   "name": "python3"
  },
  "language_info": {
   "codemirror_mode": {
    "name": "ipython",
    "version": 3
   },
   "file_extension": ".py",
   "mimetype": "text/x-python",
   "name": "python",
   "nbconvert_exporter": "python",
   "pygments_lexer": "ipython3",
   "version": "3.11.5"
  }
 },
 "nbformat": 4,
 "nbformat_minor": 5
}
