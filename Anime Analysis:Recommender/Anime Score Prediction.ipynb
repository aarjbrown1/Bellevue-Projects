{
 "cells": [
  {
   "cell_type": "markdown",
   "id": "3d293512-411f-4496-b7b2-387148be2b69",
   "metadata": {},
   "source": [
    "<hr style=\"border:2px solid black\"> \n",
    " \n",
    " # Predicting the Rating/Score of Anime Using Data Scraped from MyAnimeList.coms\n",
    " \n"
   ]
  },
  {
   "cell_type": "markdown",
   "id": "466f1c5e",
   "metadata": {},
   "source": [
    "**Importing Libraries**"
   ]
  },
  {
   "cell_type": "code",
   "execution_count": 1,
   "id": "fc682745-c82f-40d0-a6ba-d85a0bf04043",
   "metadata": {},
   "outputs": [],
   "source": [
    "import os\n",
    "import pandas as pd\n",
    "import numpy as np\n",
    "import seaborn as sns\n",
    "import matplotlib.pyplot as plt\n",
    "\n",
    "import warnings\n",
    "warnings.filterwarnings('ignore')\n",
    "\n",
    "#nltk.download('example')"
   ]
  },
  {
   "cell_type": "markdown",
   "id": "bfa8f8db",
   "metadata": {},
   "source": [
    "<span style='color:Purple'>\n",
    "Data from MyAnimeList."
   ]
  },
  {
   "cell_type": "code",
   "execution_count": 2,
   "id": "610af0d7-303c-446e-9ecc-077fd940abff",
   "metadata": {},
   "outputs": [],
   "source": [
    "mal_df = pd.read_csv('/Users/aaronbrown/Documents/Classwork/DSC 630 - Predictive Analytics/Data/mal_anime.csv')"
   ]
  },
  {
   "cell_type": "code",
   "execution_count": 3,
   "id": "77522a13",
   "metadata": {},
   "outputs": [
    {
     "data": {
      "text/html": [
       "<div>\n",
       "<style scoped>\n",
       "    .dataframe tbody tr th:only-of-type {\n",
       "        vertical-align: middle;\n",
       "    }\n",
       "\n",
       "    .dataframe tbody tr th {\n",
       "        vertical-align: top;\n",
       "    }\n",
       "\n",
       "    .dataframe thead th {\n",
       "        text-align: right;\n",
       "    }\n",
       "</style>\n",
       "<table border=\"1\" class=\"dataframe\">\n",
       "  <thead>\n",
       "    <tr style=\"text-align: right;\">\n",
       "      <th></th>\n",
       "      <th>title</th>\n",
       "      <th>episodes</th>\n",
       "      <th>type</th>\n",
       "      <th>favorites</th>\n",
       "      <th>score</th>\n",
       "      <th>members</th>\n",
       "      <th>studios</th>\n",
       "    </tr>\n",
       "  </thead>\n",
       "  <tbody>\n",
       "    <tr>\n",
       "      <th>0</th>\n",
       "      <td>Fullmetal Alchemist: Brotherhood</td>\n",
       "      <td>64</td>\n",
       "      <td>TV</td>\n",
       "      <td>218,277</td>\n",
       "      <td>9.10</td>\n",
       "      <td>3,190,961</td>\n",
       "      <td>Bones</td>\n",
       "    </tr>\n",
       "    <tr>\n",
       "      <th>1</th>\n",
       "      <td>Steins;Gate</td>\n",
       "      <td>24</td>\n",
       "      <td>TV</td>\n",
       "      <td>183,596</td>\n",
       "      <td>9.07</td>\n",
       "      <td>2,452,142</td>\n",
       "      <td>White Fox</td>\n",
       "    </tr>\n",
       "    <tr>\n",
       "      <th>2</th>\n",
       "      <td>Bleach: Sennen Kessen-hen</td>\n",
       "      <td>13</td>\n",
       "      <td>TV</td>\n",
       "      <td>18,421</td>\n",
       "      <td>9.06</td>\n",
       "      <td>455,428</td>\n",
       "      <td>Pierrot</td>\n",
       "    </tr>\n",
       "  </tbody>\n",
       "</table>\n",
       "</div>"
      ],
      "text/plain": [
       "                              title episodes type favorites  score    members  \\\n",
       "0  Fullmetal Alchemist: Brotherhood       64   TV   218,277   9.10  3,190,961   \n",
       "1                       Steins;Gate       24   TV   183,596   9.07  2,452,142   \n",
       "2         Bleach: Sennen Kessen-hen       13   TV    18,421   9.06    455,428   \n",
       "\n",
       "     studios  \n",
       "0      Bones  \n",
       "1  White Fox  \n",
       "2    Pierrot  "
      ]
     },
     "execution_count": 3,
     "metadata": {},
     "output_type": "execute_result"
    }
   ],
   "source": [
    "mal_data = mal_df\n",
    "mal_data = mal_df[['title', 'episodes', 'type', 'favorites', 'score', 'members', 'studios']]\n",
    "mal_data.head(3)"
   ]
  },
  {
   "cell_type": "markdown",
   "id": "a7faed86",
   "metadata": {},
   "source": [
    "**Removing Missing Values**"
   ]
  },
  {
   "cell_type": "code",
   "execution_count": 4,
   "id": "9df4f14a",
   "metadata": {},
   "outputs": [
    {
     "data": {
      "text/plain": [
       "title           0\n",
       "episodes        0\n",
       "type            0\n",
       "favorites       0\n",
       "score        8968\n",
       "members         0\n",
       "studios         0\n",
       "dtype: int64"
      ]
     },
     "execution_count": 4,
     "metadata": {},
     "output_type": "execute_result"
    }
   ],
   "source": [
    "mal_data.isnull().sum()"
   ]
  },
  {
   "cell_type": "code",
   "execution_count": 5,
   "id": "124fb6f8",
   "metadata": {},
   "outputs": [
    {
     "data": {
      "text/plain": [
       "title        0\n",
       "episodes     0\n",
       "type         0\n",
       "favorites    0\n",
       "score        0\n",
       "members      0\n",
       "studios      0\n",
       "dtype: int64"
      ]
     },
     "execution_count": 5,
     "metadata": {},
     "output_type": "execute_result"
    }
   ],
   "source": [
    "mal_data.dropna(inplace=True)\n",
    "mal_data.isnull().sum()"
   ]
  },
  {
   "cell_type": "code",
   "execution_count": 6,
   "id": "d3f5f2c8",
   "metadata": {
    "scrolled": true
   },
   "outputs": [
    {
     "name": "stdout",
     "output_type": "stream",
     "text": [
      "<class 'pandas.core.frame.DataFrame'>\n",
      "Index: 15294 entries, 0 to 24261\n",
      "Data columns (total 7 columns):\n",
      " #   Column     Non-Null Count  Dtype  \n",
      "---  ------     --------------  -----  \n",
      " 0   title      15294 non-null  object \n",
      " 1   episodes   15294 non-null  object \n",
      " 2   type       15294 non-null  object \n",
      " 3   favorites  15294 non-null  object \n",
      " 4   score      15294 non-null  float64\n",
      " 5   members    15294 non-null  object \n",
      " 6   studios    15294 non-null  object \n",
      "dtypes: float64(1), object(6)\n",
      "memory usage: 955.9+ KB\n"
     ]
    }
   ],
   "source": [
    "mal_data.info()"
   ]
  },
  {
   "cell_type": "markdown",
   "id": "3d54fe6f",
   "metadata": {},
   "source": [
    "**Removing Punctuation.**"
   ]
  },
  {
   "cell_type": "code",
   "execution_count": 7,
   "id": "9beb744f",
   "metadata": {},
   "outputs": [],
   "source": [
    "'Libraries needed for text cleaning functions.'\n",
    "import string\n",
    "import nltk"
   ]
  },
  {
   "cell_type": "code",
   "execution_count": 8,
   "id": "59f19bfd",
   "metadata": {},
   "outputs": [],
   "source": [
    "## \"punctuation_be_gone\" function removes punctuation and special characters from the text.\n",
    "\n",
    "def punctuation_be_gone(text_only):\n",
    "    for punctuation in string.punctuation:\n",
    "            text_only = text_only.replace(punctuation, '') # <=replace with here\n",
    "    return text_only"
   ]
  },
  {
   "cell_type": "code",
   "execution_count": 9,
   "id": "ce322520",
   "metadata": {},
   "outputs": [
    {
     "data": {
      "text/html": [
       "<div>\n",
       "<style scoped>\n",
       "    .dataframe tbody tr th:only-of-type {\n",
       "        vertical-align: middle;\n",
       "    }\n",
       "\n",
       "    .dataframe tbody tr th {\n",
       "        vertical-align: top;\n",
       "    }\n",
       "\n",
       "    .dataframe thead th {\n",
       "        text-align: right;\n",
       "    }\n",
       "</style>\n",
       "<table border=\"1\" class=\"dataframe\">\n",
       "  <thead>\n",
       "    <tr style=\"text-align: right;\">\n",
       "      <th></th>\n",
       "      <th>title</th>\n",
       "      <th>episodes</th>\n",
       "      <th>type</th>\n",
       "      <th>favorites</th>\n",
       "      <th>score</th>\n",
       "      <th>members</th>\n",
       "      <th>studios</th>\n",
       "    </tr>\n",
       "  </thead>\n",
       "  <tbody>\n",
       "    <tr>\n",
       "      <th>0</th>\n",
       "      <td>Fullmetal Alchemist: Brotherhood</td>\n",
       "      <td>64</td>\n",
       "      <td>TV</td>\n",
       "      <td>218277</td>\n",
       "      <td>9.10</td>\n",
       "      <td>3190961</td>\n",
       "      <td>Bones</td>\n",
       "    </tr>\n",
       "    <tr>\n",
       "      <th>1</th>\n",
       "      <td>Steins;Gate</td>\n",
       "      <td>24</td>\n",
       "      <td>TV</td>\n",
       "      <td>183596</td>\n",
       "      <td>9.07</td>\n",
       "      <td>2452142</td>\n",
       "      <td>White Fox</td>\n",
       "    </tr>\n",
       "    <tr>\n",
       "      <th>2</th>\n",
       "      <td>Bleach: Sennen Kessen-hen</td>\n",
       "      <td>13</td>\n",
       "      <td>TV</td>\n",
       "      <td>18421</td>\n",
       "      <td>9.06</td>\n",
       "      <td>455428</td>\n",
       "      <td>Pierrot</td>\n",
       "    </tr>\n",
       "    <tr>\n",
       "      <th>3</th>\n",
       "      <td>Gintama°</td>\n",
       "      <td>51</td>\n",
       "      <td>TV</td>\n",
       "      <td>16042</td>\n",
       "      <td>9.06</td>\n",
       "      <td>599235</td>\n",
       "      <td>Bandai Namco Pictures</td>\n",
       "    </tr>\n",
       "    <tr>\n",
       "      <th>4</th>\n",
       "      <td>Kaguya-sama wa Kokurasetai: Ultra Romantic</td>\n",
       "      <td>13</td>\n",
       "      <td>TV</td>\n",
       "      <td>29397</td>\n",
       "      <td>9.05</td>\n",
       "      <td>832346</td>\n",
       "      <td>A-1 Pictures</td>\n",
       "    </tr>\n",
       "  </tbody>\n",
       "</table>\n",
       "</div>"
      ],
      "text/plain": [
       "                                        title episodes type  favorites  score  \\\n",
       "0            Fullmetal Alchemist: Brotherhood       64   TV     218277   9.10   \n",
       "1                                 Steins;Gate       24   TV     183596   9.07   \n",
       "2                   Bleach: Sennen Kessen-hen       13   TV      18421   9.06   \n",
       "3                                    Gintama°       51   TV      16042   9.06   \n",
       "4  Kaguya-sama wa Kokurasetai: Ultra Romantic       13   TV      29397   9.05   \n",
       "\n",
       "   members                studios  \n",
       "0  3190961                  Bones  \n",
       "1  2452142              White Fox  \n",
       "2   455428                Pierrot  \n",
       "3   599235  Bandai Namco Pictures  \n",
       "4   832346           A-1 Pictures  "
      ]
     },
     "execution_count": 9,
     "metadata": {},
     "output_type": "execute_result"
    }
   ],
   "source": [
    "mal_data['favorites'] = mal_data['favorites'].apply(punctuation_be_gone)\n",
    "mal_data['favorites'] = mal_data['favorites'].astype(int)\n",
    "\n",
    "mal_data['members'] = mal_data['members'].apply(punctuation_be_gone)\n",
    "mal_data['members'] = mal_data['members'].astype(int)\n",
    "mal_data.head()"
   ]
  },
  {
   "cell_type": "markdown",
   "id": "90ced917",
   "metadata": {},
   "source": [
    "**Removing Specific Element in Column.**"
   ]
  },
  {
   "cell_type": "code",
   "execution_count": 10,
   "id": "a06a629a",
   "metadata": {},
   "outputs": [],
   "source": [
    "mal_data['episodes'].replace('Unknown', '11.599', inplace=True)\n",
    "mal_data['episodes'] = mal_data['episodes'].astype(float)"
   ]
  },
  {
   "cell_type": "code",
   "execution_count": 11,
   "id": "8063999f",
   "metadata": {},
   "outputs": [],
   "source": [
    "mal_data = mal_data[mal_data.type != \"Unknown\"]"
   ]
  },
  {
   "cell_type": "markdown",
   "id": "e76a2a6e",
   "metadata": {},
   "source": [
    "**Creating Dummy Variables for \"type\" - \"type_DV\".**"
   ]
  },
  {
   "cell_type": "code",
   "execution_count": 12,
   "id": "6674c099",
   "metadata": {
    "scrolled": true
   },
   "outputs": [
    {
     "data": {
      "text/html": [
       "<div>\n",
       "<style scoped>\n",
       "    .dataframe tbody tr th:only-of-type {\n",
       "        vertical-align: middle;\n",
       "    }\n",
       "\n",
       "    .dataframe tbody tr th {\n",
       "        vertical-align: top;\n",
       "    }\n",
       "\n",
       "    .dataframe thead th {\n",
       "        text-align: right;\n",
       "    }\n",
       "</style>\n",
       "<table border=\"1\" class=\"dataframe\">\n",
       "  <thead>\n",
       "    <tr style=\"text-align: right;\">\n",
       "      <th></th>\n",
       "      <th>title</th>\n",
       "      <th>episodes</th>\n",
       "      <th>type</th>\n",
       "      <th>favorites</th>\n",
       "      <th>score</th>\n",
       "      <th>members</th>\n",
       "      <th>studios</th>\n",
       "      <th>type_DV</th>\n",
       "    </tr>\n",
       "  </thead>\n",
       "  <tbody>\n",
       "    <tr>\n",
       "      <th>24259</th>\n",
       "      <td>Seikoujo: Haitoku no Biden Dorei</td>\n",
       "      <td>2.0</td>\n",
       "      <td>OVA</td>\n",
       "      <td>10</td>\n",
       "      <td>5.86</td>\n",
       "      <td>4130</td>\n",
       "      <td>Studio Jam</td>\n",
       "      <td>2</td>\n",
       "    </tr>\n",
       "    <tr>\n",
       "      <th>24260</th>\n",
       "      <td>Chikan Juunin-tai The Animation</td>\n",
       "      <td>5.0</td>\n",
       "      <td>OVA</td>\n",
       "      <td>7</td>\n",
       "      <td>5.86</td>\n",
       "      <td>2855</td>\n",
       "      <td>Sugar Boy</td>\n",
       "      <td>2</td>\n",
       "    </tr>\n",
       "    <tr>\n",
       "      <th>24261</th>\n",
       "      <td>Gibo</td>\n",
       "      <td>2.0</td>\n",
       "      <td>OVA</td>\n",
       "      <td>16</td>\n",
       "      <td>5.86</td>\n",
       "      <td>5535</td>\n",
       "      <td>Y.O.U.C</td>\n",
       "      <td>2</td>\n",
       "    </tr>\n",
       "  </tbody>\n",
       "</table>\n",
       "</div>"
      ],
      "text/plain": [
       "                                  title  episodes type  favorites  score  \\\n",
       "24259  Seikoujo: Haitoku no Biden Dorei       2.0  OVA         10   5.86   \n",
       "24260   Chikan Juunin-tai The Animation       5.0  OVA          7   5.86   \n",
       "24261                              Gibo       2.0  OVA         16   5.86   \n",
       "\n",
       "       members     studios  type_DV  \n",
       "24259     4130  Studio Jam        2  \n",
       "24260     2855   Sugar Boy        2  \n",
       "24261     5535     Y.O.U.C        2  "
      ]
     },
     "execution_count": 12,
     "metadata": {},
     "output_type": "execute_result"
    }
   ],
   "source": [
    "type_dict = dict(TV=1, OVA=2, Movie=3, Special=4, ONA=5, Music=6)\n",
    "\n",
    "mal_data['type_DV'] = mal_data['type'].map(type_dict)\n",
    "mal_data.tail(3)"
   ]
  },
  {
   "cell_type": "code",
   "execution_count": 13,
   "id": "c85cfd94-2977-42b3-9b9e-6d83a4d4f294",
   "metadata": {},
   "outputs": [
    {
     "name": "stdout",
     "output_type": "stream",
     "text": [
      "<class 'pandas.core.frame.DataFrame'>\n",
      "Index: 15293 entries, 0 to 24261\n",
      "Data columns (total 8 columns):\n",
      " #   Column     Non-Null Count  Dtype  \n",
      "---  ------     --------------  -----  \n",
      " 0   title      15293 non-null  object \n",
      " 1   episodes   15293 non-null  float64\n",
      " 2   type       15293 non-null  object \n",
      " 3   favorites  15293 non-null  int64  \n",
      " 4   score      15293 non-null  float64\n",
      " 5   members    15293 non-null  int64  \n",
      " 6   studios    15293 non-null  object \n",
      " 7   type_DV    15293 non-null  int64  \n",
      "dtypes: float64(2), int64(3), object(3)\n",
      "memory usage: 1.1+ MB\n"
     ]
    }
   ],
   "source": [
    "mal_data.info()"
   ]
  },
  {
   "cell_type": "markdown",
   "id": "4e9a857a",
   "metadata": {},
   "source": [
    "**Generating visualizations to examine features and relationships.**"
   ]
  },
  {
   "cell_type": "code",
   "execution_count": 25,
   "id": "716f784e-d139-437a-bb8f-b42e4ffe3480",
   "metadata": {},
   "outputs": [
    {
     "data": {
      "text/html": [
       "<div>\n",
       "<style scoped>\n",
       "    .dataframe tbody tr th:only-of-type {\n",
       "        vertical-align: middle;\n",
       "    }\n",
       "\n",
       "    .dataframe tbody tr th {\n",
       "        vertical-align: top;\n",
       "    }\n",
       "\n",
       "    .dataframe thead th {\n",
       "        text-align: right;\n",
       "    }\n",
       "</style>\n",
       "<table border=\"1\" class=\"dataframe\">\n",
       "  <thead>\n",
       "    <tr style=\"text-align: right;\">\n",
       "      <th></th>\n",
       "      <th>episodes</th>\n",
       "      <th>type_DV</th>\n",
       "      <th>favorites</th>\n",
       "      <th>score</th>\n",
       "      <th>members</th>\n",
       "    </tr>\n",
       "  </thead>\n",
       "  <tbody>\n",
       "    <tr>\n",
       "      <th>0</th>\n",
       "      <td>64.0</td>\n",
       "      <td>1</td>\n",
       "      <td>218277</td>\n",
       "      <td>9.10</td>\n",
       "      <td>3190961</td>\n",
       "    </tr>\n",
       "    <tr>\n",
       "      <th>1</th>\n",
       "      <td>24.0</td>\n",
       "      <td>1</td>\n",
       "      <td>183596</td>\n",
       "      <td>9.07</td>\n",
       "      <td>2452142</td>\n",
       "    </tr>\n",
       "    <tr>\n",
       "      <th>2</th>\n",
       "      <td>13.0</td>\n",
       "      <td>1</td>\n",
       "      <td>18421</td>\n",
       "      <td>9.06</td>\n",
       "      <td>455428</td>\n",
       "    </tr>\n",
       "    <tr>\n",
       "      <th>3</th>\n",
       "      <td>51.0</td>\n",
       "      <td>1</td>\n",
       "      <td>16042</td>\n",
       "      <td>9.06</td>\n",
       "      <td>599235</td>\n",
       "    </tr>\n",
       "    <tr>\n",
       "      <th>4</th>\n",
       "      <td>13.0</td>\n",
       "      <td>1</td>\n",
       "      <td>29397</td>\n",
       "      <td>9.05</td>\n",
       "      <td>832346</td>\n",
       "    </tr>\n",
       "  </tbody>\n",
       "</table>\n",
       "</div>"
      ],
      "text/plain": [
       "   episodes  type_DV  favorites  score  members\n",
       "0      64.0        1     218277   9.10  3190961\n",
       "1      24.0        1     183596   9.07  2452142\n",
       "2      13.0        1      18421   9.06   455428\n",
       "3      51.0        1      16042   9.06   599235\n",
       "4      13.0        1      29397   9.05   832346"
      ]
     },
     "execution_count": 25,
     "metadata": {},
     "output_type": "execute_result"
    }
   ],
   "source": [
    "mal_data2 = mal_data[['episodes', 'type_DV', 'favorites', 'score', 'members']]\n",
    "mal_data2.head()"
   ]
  },
  {
   "cell_type": "code",
   "execution_count": 26,
   "id": "3cb20b78",
   "metadata": {},
   "outputs": [
    {
     "data": {
      "image/png": "[encoded data removed]",
      "text/plain": [
       "<Figure size 700x500 with 2 Axes>"
      ]
     },
     "metadata": {},
     "output_type": "display_data"
    }
   ],
   "source": [
    "corr_matrix = mal_data2.corr(method = 'spearman')\n",
    "fig, ax = plt.subplots(1, 1, figsize=(7,5), tight_layout = True) \n",
    "sns.heatmap(corr_matrix, annot = True)\n",
    "plt.show()"
   ]
  },
  {
   "cell_type": "code",
   "execution_count": 27,
   "id": "bc55ee4e",
   "metadata": {},
   "outputs": [
    {
     "data": {
      "image/png": "[encoded data removed]",
      "text/plain": [
       "<Figure size 640x480 with 1 Axes>"
      ]
     },
     "metadata": {},
     "output_type": "display_data"
    }
   ],
   "source": [
    "plt.hist(mal_data2['score'], bins=20, color='mediumslateblue')\n",
    "plt.title(\"Bar Chart - Anime Distribution by 'Score'\")\n",
    "plt.xlabel(\"Score\")\n",
    "plt.ylabel(\"FREQUENCY\")\n",
    "plt.grid(True)\n",
    "plt.show()"
   ]
  },
  {
   "cell_type": "code",
   "execution_count": 28,
   "id": "018c0130",
   "metadata": {},
   "outputs": [
    {
     "data": {
      "image/png": "[encoded data removed]",
      "text/plain": [
       "<Figure size 640x480 with 1 Axes>"
      ]
     },
     "metadata": {},
     "output_type": "display_data"
    }
   ],
   "source": [
    "plt.hist(mal_data['type'], bins=20, color='lightcoral')\n",
    "plt.title(\"Bar Chart - Anime Distribution by 'Type'\")\n",
    "plt.xlabel(\"TYPE\")\n",
    "plt.ylabel(\"FREQUENCY\")\n",
    "plt.grid(True)\n",
    "plt.show()"
   ]
  },
  {
   "cell_type": "code",
   "execution_count": 29,
   "id": "dd419c25-7276-492e-b18d-c50032371a35",
   "metadata": {},
   "outputs": [
    {
     "data": {
      "image/png": "[encoded data removed]",
      "text/plain": [
       "<Figure size 640x480 with 1 Axes>"
      ]
     },
     "metadata": {},
     "output_type": "display_data"
    }
   ],
   "source": [
    "plt.figure(7)\n",
    "plt.title(\"Score vs Favorites\")\n",
    "plt.xlabel(\"SCORE\")\n",
    "plt.ylabel(\"FAVORITES\")\n",
    "sns.scatterplot(x = mal_data['score'], y = mal_data['favorites'], hue = mal_data['members'])\n",
    "sns.set_palette(\"PRGn\")\n",
    "plt.grid(True)"
   ]
  },
  {
   "cell_type": "markdown",
   "id": "dac0a86a-0147-4b44-b5d9-dfd1a796174e",
   "metadata": {},
   "source": [
    "__Converting 'members' to Float Value.__"
   ]
  },
  {
   "cell_type": "code",
   "execution_count": 30,
   "id": "a9cfecfc-f435-40a9-a11d-4fced59da908",
   "metadata": {},
   "outputs": [],
   "source": [
    "mal_data2 = mal_data2.explode('members')\n",
    "mal_data2['members'] = mal_data2['members'].astype('float')"
   ]
  },
  {
   "cell_type": "code",
   "execution_count": 31,
   "id": "9529338d-2a5d-4b10-9512-a9e0a893a7fb",
   "metadata": {},
   "outputs": [
    {
     "data": {
      "text/plain": [
       "[Text(0.5, 1.0, 'Boxplot - Type x Score')]"
      ]
     },
     "execution_count": 31,
     "metadata": {},
     "output_type": "execute_result"
    },
    {
     "data": {
      "image/png": "[encoded data removed]",
      "text/plain": [
       "<Figure size 640x480 with 1 Axes>"
      ]
     },
     "metadata": {},
     "output_type": "display_data"
    }
   ],
   "source": [
    "sns.boxplot (y = 'score', x = 'type_DV', data = mal_data2, palette='RdPu').set(title = 'Boxplot - Type x Score')"
   ]
  },
  {
   "cell_type": "markdown",
   "id": "305dbe7f",
   "metadata": {},
   "source": [
    "### Model Building - Linear Regression"
   ]
  },
  {
   "cell_type": "markdown",
   "id": "898bb0d4",
   "metadata": {},
   "source": [
    "__Describing Data.__"
   ]
  },
  {
   "cell_type": "code",
   "execution_count": 33,
   "id": "9cec9498",
   "metadata": {
    "scrolled": true
   },
   "outputs": [
    {
     "data": {
      "text/html": [
       "<div>\n",
       "<style scoped>\n",
       "    .dataframe tbody tr th:only-of-type {\n",
       "        vertical-align: middle;\n",
       "    }\n",
       "\n",
       "    .dataframe tbody tr th {\n",
       "        vertical-align: top;\n",
       "    }\n",
       "\n",
       "    .dataframe thead th {\n",
       "        text-align: right;\n",
       "    }\n",
       "</style>\n",
       "<table border=\"1\" class=\"dataframe\">\n",
       "  <thead>\n",
       "    <tr style=\"text-align: right;\">\n",
       "      <th></th>\n",
       "      <th>episodes</th>\n",
       "      <th>type_DV</th>\n",
       "      <th>favorites</th>\n",
       "      <th>score</th>\n",
       "      <th>members</th>\n",
       "    </tr>\n",
       "  </thead>\n",
       "  <tbody>\n",
       "    <tr>\n",
       "      <th>count</th>\n",
       "      <td>15293.000000</td>\n",
       "      <td>15293.000000</td>\n",
       "      <td>15293.000000</td>\n",
       "      <td>15293.000000</td>\n",
       "      <td>1.529300e+04</td>\n",
       "    </tr>\n",
       "    <tr>\n",
       "      <th>mean</th>\n",
       "      <td>11.598634</td>\n",
       "      <td>2.909697</td>\n",
       "      <td>706.077225</td>\n",
       "      <td>6.417142</td>\n",
       "      <td>6.029173e+04</td>\n",
       "    </tr>\n",
       "    <tr>\n",
       "      <th>std</th>\n",
       "      <td>48.792904</td>\n",
       "      <td>1.701085</td>\n",
       "      <td>5563.185671</td>\n",
       "      <td>0.919550</td>\n",
       "      <td>1.978039e+05</td>\n",
       "    </tr>\n",
       "    <tr>\n",
       "      <th>min</th>\n",
       "      <td>1.000000</td>\n",
       "      <td>1.000000</td>\n",
       "      <td>0.000000</td>\n",
       "      <td>1.850000</td>\n",
       "      <td>1.600000e+02</td>\n",
       "    </tr>\n",
       "    <tr>\n",
       "      <th>25%</th>\n",
       "      <td>1.000000</td>\n",
       "      <td>1.000000</td>\n",
       "      <td>1.000000</td>\n",
       "      <td>5.800000</td>\n",
       "      <td>1.138000e+03</td>\n",
       "    </tr>\n",
       "    <tr>\n",
       "      <th>50%</th>\n",
       "      <td>2.000000</td>\n",
       "      <td>3.000000</td>\n",
       "      <td>8.000000</td>\n",
       "      <td>6.420000</td>\n",
       "      <td>5.273000e+03</td>\n",
       "    </tr>\n",
       "    <tr>\n",
       "      <th>75%</th>\n",
       "      <td>12.000000</td>\n",
       "      <td>4.000000</td>\n",
       "      <td>66.000000</td>\n",
       "      <td>7.090000</td>\n",
       "      <td>2.898100e+04</td>\n",
       "    </tr>\n",
       "    <tr>\n",
       "      <th>max</th>\n",
       "      <td>3057.000000</td>\n",
       "      <td>6.000000</td>\n",
       "      <td>218277.000000</td>\n",
       "      <td>9.100000</td>\n",
       "      <td>3.762148e+06</td>\n",
       "    </tr>\n",
       "  </tbody>\n",
       "</table>\n",
       "</div>"
      ],
      "text/plain": [
       "           episodes       type_DV      favorites         score       members\n",
       "count  15293.000000  15293.000000   15293.000000  15293.000000  1.529300e+04\n",
       "mean      11.598634      2.909697     706.077225      6.417142  6.029173e+04\n",
       "std       48.792904      1.701085    5563.185671      0.919550  1.978039e+05\n",
       "min        1.000000      1.000000       0.000000      1.850000  1.600000e+02\n",
       "25%        1.000000      1.000000       1.000000      5.800000  1.138000e+03\n",
       "50%        2.000000      3.000000       8.000000      6.420000  5.273000e+03\n",
       "75%       12.000000      4.000000      66.000000      7.090000  2.898100e+04\n",
       "max     3057.000000      6.000000  218277.000000      9.100000  3.762148e+06"
      ]
     },
     "execution_count": 33,
     "metadata": {},
     "output_type": "execute_result"
    }
   ],
   "source": [
    "mal_data2.describe()"
   ]
  },
  {
   "cell_type": "markdown",
   "id": "15c69544",
   "metadata": {},
   "source": [
    "**Splitting the data into a training and test set, where 'score' is the target.**"
   ]
  },
  {
   "cell_type": "code",
   "execution_count": 34,
   "id": "616d1d7c",
   "metadata": {},
   "outputs": [],
   "source": [
    "import sklearn\n",
    "from sklearn.model_selection import train_test_split"
   ]
  },
  {
   "cell_type": "code",
   "execution_count": 35,
   "id": "b3ece253",
   "metadata": {},
   "outputs": [
    {
     "name": "stdout",
     "output_type": "stream",
     "text": [
      "shape of - features_train (11469, 4)\n",
      "shape of - target_train (11469,)\n",
      "shape of - features_test (3824, 4)\n",
      "shape of - target_test (3824,)\n"
     ]
    }
   ],
   "source": [
    "target = mal_data2.score\n",
    "features = mal_data2.drop('score',axis=1)\n",
    "\n",
    "x_train, x_test, y_train, y_test = train_test_split(features, target\n",
    "                                                            , test_size=0.25, random_state=42)\n",
    "\n",
    "print(\"shape of - features_train\", x_train.shape)\n",
    "print(\"shape of - target_train\", y_train.shape)\n",
    "print(\"shape of - features_test\", x_test.shape)\n",
    "print(\"shape of - target_test\", y_test.shape)"
   ]
  },
  {
   "cell_type": "markdown",
   "id": "04c04121",
   "metadata": {},
   "source": [
    "**Using Linear Regression model to generate 'score' predictions.**"
   ]
  },
  {
   "cell_type": "code",
   "execution_count": 36,
   "id": "1ceeb402",
   "metadata": {},
   "outputs": [],
   "source": [
    "from sklearn.linear_model import LinearRegression"
   ]
  },
  {
   "cell_type": "code",
   "execution_count": 37,
   "id": "95053e9c",
   "metadata": {},
   "outputs": [
    {
     "data": {
      "text/html": [
       "<style>#sk-container-id-1 {color: black;}#sk-container-id-1 pre{padding: 0;}#sk-container-id-1 div.sk-toggleable {background-color: white;}#sk-container-id-1 label.sk-toggleable__label {cursor: pointer;display: block;width: 100%;margin-bottom: 0;padding: 0.3em;box-sizing: border-box;text-align: center;}#sk-container-id-1 label.sk-toggleable__label-arrow:before {content: \"▸\";float: left;margin-right: 0.25em;color: #696969;}#sk-container-id-1 label.sk-toggleable__label-arrow:hover:before {color: black;}#sk-container-id-1 div.sk-estimator:hover label.sk-toggleable__label-arrow:before {color: black;}#sk-container-id-1 div.sk-toggleable__content {max-height: 0;max-width: 0;overflow: hidden;text-align: left;background-color: #f0f8ff;}#sk-container-id-1 div.sk-toggleable__content pre {margin: 0.2em;color: black;border-radius: 0.25em;background-color: #f0f8ff;}#sk-container-id-1 input.sk-toggleable__control:checked~div.sk-toggleable__content {max-height: 200px;max-width: 100%;overflow: auto;}#sk-container-id-1 input.sk-toggleable__control:checked~label.sk-toggleable__label-arrow:before {content: \"▾\";}#sk-container-id-1 div.sk-estimator input.sk-toggleable__control:checked~label.sk-toggleable__label {background-color: #d4ebff;}#sk-container-id-1 div.sk-label input.sk-toggleable__control:checked~label.sk-toggleable__label {background-color: #d4ebff;}#sk-container-id-1 input.sk-hidden--visually {border: 0;clip: rect(1px 1px 1px 1px);clip: rect(1px, 1px, 1px, 1px);height: 1px;margin: -1px;overflow: hidden;padding: 0;position: absolute;width: 1px;}#sk-container-id-1 div.sk-estimator {font-family: monospace;background-color: #f0f8ff;border: 1px dotted black;border-radius: 0.25em;box-sizing: border-box;margin-bottom: 0.5em;}#sk-container-id-1 div.sk-estimator:hover {background-color: #d4ebff;}#sk-container-id-1 div.sk-parallel-item::after {content: \"\";width: 100%;border-bottom: 1px solid gray;flex-grow: 1;}#sk-container-id-1 div.sk-label:hover label.sk-toggleable__label {background-color: #d4ebff;}#sk-container-id-1 div.sk-serial::before {content: \"\";position: absolute;border-left: 1px solid gray;box-sizing: border-box;top: 0;bottom: 0;left: 50%;z-index: 0;}#sk-container-id-1 div.sk-serial {display: flex;flex-direction: column;align-items: center;background-color: white;padding-right: 0.2em;padding-left: 0.2em;position: relative;}#sk-container-id-1 div.sk-item {position: relative;z-index: 1;}#sk-container-id-1 div.sk-parallel {display: flex;align-items: stretch;justify-content: center;background-color: white;position: relative;}#sk-container-id-1 div.sk-item::before, #sk-container-id-1 div.sk-parallel-item::before {content: \"\";position: absolute;border-left: 1px solid gray;box-sizing: border-box;top: 0;bottom: 0;left: 50%;z-index: -1;}#sk-container-id-1 div.sk-parallel-item {display: flex;flex-direction: column;z-index: 1;position: relative;background-color: white;}#sk-container-id-1 div.sk-parallel-item:first-child::after {align-self: flex-end;width: 50%;}#sk-container-id-1 div.sk-parallel-item:last-child::after {align-self: flex-start;width: 50%;}#sk-container-id-1 div.sk-parallel-item:only-child::after {width: 0;}#sk-container-id-1 div.sk-dashed-wrapped {border: 1px dashed gray;margin: 0 0.4em 0.5em 0.4em;box-sizing: border-box;padding-bottom: 0.4em;background-color: white;}#sk-container-id-1 div.sk-label label {font-family: monospace;font-weight: bold;display: inline-block;line-height: 1.2em;}#sk-container-id-1 div.sk-label-container {text-align: center;}#sk-container-id-1 div.sk-container {/* jupyter's `normalize.less` sets `[hidden] { display: none; }` but bootstrap.min.css set `[hidden] { display: none !important; }` so we also need the `!important` here to be able to override the default hidden behavior on the sphinx rendered scikit-learn.org. See: https://github.com/scikit-learn/scikit-learn/issues/21755 */display: inline-block !important;position: relative;}#sk-container-id-1 div.sk-text-repr-fallback {display: none;}</style><div id=\"sk-container-id-1\" class=\"sk-top-container\"><div class=\"sk-text-repr-fallback\"><pre>LinearRegression()</pre><b>In a Jupyter environment, please rerun this cell to show the HTML representation or trust the notebook. <br />On GitHub, the HTML representation is unable to render, please try loading this page with nbviewer.org.</b></div><div class=\"sk-container\" hidden><div class=\"sk-item\"><div class=\"sk-estimator sk-toggleable\"><input class=\"sk-toggleable__control sk-hidden--visually\" id=\"sk-estimator-id-1\" type=\"checkbox\" checked><label for=\"sk-estimator-id-1\" class=\"sk-toggleable__label sk-toggleable__label-arrow\">LinearRegression</label><div class=\"sk-toggleable__content\"><pre>LinearRegression()</pre></div></div></div></div></div>"
      ],
      "text/plain": [
       "LinearRegression()"
      ]
     },
     "execution_count": 37,
     "metadata": {},
     "output_type": "execute_result"
    }
   ],
   "source": [
    "linreg_model = LinearRegression()\n",
    "\n",
    "linreg_model.fit(x_train, y_train)"
   ]
  },
  {
   "cell_type": "code",
   "execution_count": 38,
   "id": "c62dd8b2",
   "metadata": {},
   "outputs": [
    {
     "data": {
      "text/plain": [
       "array([6.39154534, 6.60276127, 6.35411345, ..., 5.91440097, 6.42710106,\n",
       "       7.08204085])"
      ]
     },
     "execution_count": 38,
     "metadata": {},
     "output_type": "execute_result"
    }
   ],
   "source": [
    "score_predictions = linreg_model.predict(x_test)\n",
    "score_predictions"
   ]
  },
  {
   "cell_type": "markdown",
   "id": "612ee57a",
   "metadata": {},
   "source": [
    "**Calculation of RMSE to determine the performance for the regression model.**"
   ]
  },
  {
   "cell_type": "code",
   "execution_count": 39,
   "id": "c5967fba",
   "metadata": {},
   "outputs": [],
   "source": [
    "from sklearn import metrics"
   ]
  },
  {
   "cell_type": "code",
   "execution_count": 40,
   "id": "925b0d07",
   "metadata": {},
   "outputs": [
    {
     "name": "stdout",
     "output_type": "stream",
     "text": [
      "Root Mean Squared Error (RMSE): 0.8209\n"
     ]
    }
   ],
   "source": [
    "RMSE = (metrics.mean_squared_error(y_test, score_predictions, squared=False))\n",
    "print('Root Mean Squared Error (RMSE): %.4f' % RMSE)"
   ]
  },
  {
   "cell_type": "markdown",
   "id": "e568067e-9a98-4a9c-b821-3f708bc04a0d",
   "metadata": {},
   "source": [
    "__Model Comparison.__"
   ]
  },
  {
   "cell_type": "markdown",
   "id": "ab32b85f-7920-42a5-8b87-6d58233797cf",
   "metadata": {},
   "source": [
    "__Fitting the Gradient Boosting Algorithm to the data.__"
   ]
  },
  {
   "cell_type": "code",
   "execution_count": 61,
   "id": "ca8fd270-99df-41d6-824a-3f37bb6829d5",
   "metadata": {},
   "outputs": [],
   "source": [
    "from sklearn.ensemble import GradientBoostingRegressor"
   ]
  },
  {
   "cell_type": "code",
   "execution_count": 62,
   "id": "3e72d3f8-5c53-41a3-993d-01756c928a4a",
   "metadata": {},
   "outputs": [
    {
     "data": {
      "text/plain": [
       "0.6196390501539417"
      ]
     },
     "execution_count": 62,
     "metadata": {},
     "output_type": "execute_result"
    }
   ],
   "source": [
    "reg = GradientBoostingRegressor(random_state=0)\n",
    "reg.fit(x_train, y_train)\n",
    "GradientBoostingRegressor(random_state=0)\n",
    "reg.predict(x_test)\n",
    "reg.score(x_test, y_test)"
   ]
  },
  {
   "cell_type": "code",
   "execution_count": null,
   "id": "7f854d8b-2573-493b-a6ae-4124ff6317e2",
   "metadata": {},
   "outputs": [],
   "source": []
  },
  {
   "cell_type": "markdown",
   "id": "4aba37f1-e795-4713-8492-a822064ab9e0",
   "metadata": {},
   "source": [
    " <hr style=\"border:2px solid black\"> "
   ]
  },
  {
   "cell_type": "markdown",
   "id": "f72b8158-85c5-415e-b6d7-83558db066e1",
   "metadata": {},
   "source": [
    "## References"
   ]
  },
  {
   "cell_type": "markdown",
   "id": "b6a4766e-7e8a-4125-b419-30be5eb645ef",
   "metadata": {},
   "source": [
    "*__Choosing Colormaps in Matplotlib:__*\n",
    "\n",
    "https://matplotlib.org/stable/tutorials/colors/colormaps.html"
   ]
  },
  {
   "cell_type": "markdown",
   "id": "fe366eb7-de5b-4b48-848c-6ba38639f5c9",
   "metadata": {},
   "source": [
    "*__List of named colors in matplotlib:__*\n",
    "\n",
    "https://matplotlib.org/stable/gallery/color/named_colors.html"
   ]
  },
  {
   "cell_type": "markdown",
   "id": "5ab270ab-3306-413a-a2ae-5eef460e7e98",
   "metadata": {},
   "source": [
    "*__Seaborn Styling, Color:__*\n",
    "    \n",
    "https://www.codecademy.com/article/seaborn-design-ii"
   ]
  },
  {
   "cell_type": "code",
   "execution_count": null,
   "id": "72b4de6d-b60c-4b97-8ea0-f142c4275e90",
   "metadata": {},
   "outputs": [],
   "source": []
  }
 ],
 "metadata": {
  "kernelspec": {
   "display_name": "Python 3 (ipykernel)",
   "language": "python",
   "name": "python3"
  },
  "language_info": {
   "codemirror_mode": {
    "name": "ipython",
    "version": 3
   },
   "file_extension": ".py",
   "mimetype": "text/x-python",
   "name": "python",
   "nbconvert_exporter": "python",
   "pygments_lexer": "ipython3",
   "version": "3.11.5"
  }
 },
 "nbformat": 4,
 "nbformat_minor": 5
}
